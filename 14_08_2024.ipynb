{
  "nbformat": 4,
  "nbformat_minor": 0,
  "metadata": {
    "colab": {
      "provenance": [],
      "authorship_tag": "ABX9TyOsxeM32aBGCaPRFq3fs3bT",
      "include_colab_link": true
    },
    "kernelspec": {
      "name": "python3",
      "display_name": "Python 3"
    },
    "language_info": {
      "name": "python"
    }
  },
  "cells": [
    {
      "cell_type": "markdown",
      "metadata": {
        "id": "view-in-github",
        "colab_type": "text"
      },
      "source": [
        "<a href=\"https://colab.research.google.com/github/Adwaithgs45/DataDcience-assignment/blob/main/14_08_2024.ipynb\" target=\"_parent\"><img src=\"https://colab.research.google.com/assets/colab-badge.svg\" alt=\"Open In Colab\"/></a>"
      ]
    },
    {
      "cell_type": "markdown",
      "source": [
        "# ***Daily Task day 14***"
      ],
      "metadata": {
        "id": "GSnLXZX3rixo"
      }
    },
    {
      "cell_type": "markdown",
      "source": [
        "1.**Write a function to find the maximum of three numbers and return the result**"
      ],
      "metadata": {
        "id": "zdLJa-Ocrwzx"
      }
    },
    {
      "cell_type": "code",
      "execution_count": null,
      "metadata": {
        "colab": {
          "base_uri": "https://localhost:8080/"
        },
        "id": "9V8INchDrhux",
        "outputId": "1f445458-3dff-44b1-9d23-d1d69662c7eb"
      },
      "outputs": [
        {
          "output_type": "stream",
          "name": "stdout",
          "text": [
            "Enter the 1st value:88\n",
            "Enter the 2nd value:89\n",
            "Enter the 3rd value:87\n",
            "Maximum Value is :  89\n"
          ]
        }
      ],
      "source": [
        "def maximum(a,b,c):\n",
        "    if a >= b and a >= c:\n",
        "        return a\n",
        "    elif b >= a and b >= c:\n",
        "        return b\n",
        "    else:\n",
        "        return\n",
        "\n",
        "a = int(input(\"Enter the 1st value:\"))\n",
        "b = int(input(\"Enter the 2nd value:\"))\n",
        "c = int(input(\"Enter the 3rd value:\"))\n",
        "Maximum_Value = maximum(a,b,c)\n",
        "print(\"Maximum Value is : \",Maximum_Value)"
      ]
    },
    {
      "cell_type": "markdown",
      "source": [
        "2.Implement a function to calculate the area of a circle given the radius."
      ],
      "metadata": {
        "id": "vsoKWQi7r8s7"
      }
    },
    {
      "cell_type": "code",
      "source": [
        "def radius(a):\n",
        "  area = 3.14*a**2\n",
        "  return area\n",
        "\n",
        "radius(2)"
      ],
      "metadata": {
        "colab": {
          "base_uri": "https://localhost:8080/"
        },
        "id": "eS8h9AKMr2kk",
        "outputId": "238ef239-9cb7-4043-bd55-8d3defda68a7"
      },
      "execution_count": null,
      "outputs": [
        {
          "output_type": "execute_result",
          "data": {
            "text/plain": [
              "12.56"
            ]
          },
          "metadata": {},
          "execution_count": 2
        }
      ]
    },
    {
      "cell_type": "markdown",
      "source": [
        "3.Create a function to check if a given number is prime or not, and return a boolean result."
      ],
      "metadata": {
        "id": "d-lIlCqSsJyB"
      }
    },
    {
      "cell_type": "code",
      "source": [
        "def prime_number(a):\n",
        "  if a<=1:\n",
        "    return False\n",
        "  if a==2:\n",
        "    return True\n",
        "  if a %2 == 0:\n",
        "    return False\n",
        "  i=3\n",
        "  while i*i<=a:\n",
        "    if a %i==0:\n",
        "      return False\n",
        "    i+=2\n",
        "  return True\n",
        "\n",
        "a=int(input(\"Enter the number:\"))\n",
        "result = prime_number(a)\n",
        "print(result)"
      ],
      "metadata": {
        "colab": {
          "base_uri": "https://localhost:8080/"
        },
        "id": "7q8x7sEKsKwF",
        "outputId": "1923f5b0-44d4-47a9-f277-56a03c638277"
      },
      "execution_count": null,
      "outputs": [
        {
          "output_type": "stream",
          "name": "stdout",
          "text": [
            "Enter the number:7\n",
            "True\n"
          ]
        }
      ]
    },
    {
      "cell_type": "markdown",
      "source": [
        "4.Create a function to check if a given string is a palindrome and return a boolean result"
      ],
      "metadata": {
        "id": "WGSt0VfXsVW2"
      }
    },
    {
      "cell_type": "code",
      "source": [
        "def palindrome(s):\n",
        "    s = s.lower()\n",
        "    return s == s[::-1]\n",
        "\n",
        "print(palindrome(\"Malayalam\"))\n",
        "print(palindrome(\"Hindi\"))\n"
      ],
      "metadata": {
        "id": "4m5gfbDnsQyL",
        "colab": {
          "base_uri": "https://localhost:8080/"
        },
        "outputId": "6b7bd337-f6cb-4bfb-dcdf-0c26f01bcb9e"
      },
      "execution_count": null,
      "outputs": [
        {
          "output_type": "stream",
          "name": "stdout",
          "text": [
            "True\n",
            "False\n"
          ]
        }
      ]
    },
    {
      "cell_type": "markdown",
      "source": [
        " 5.Implement a function to calculate the sum of all numbers in a list and\n",
        "return the sum."
      ],
      "metadata": {
        "id": "DcYFZ-a9sYrY"
      }
    },
    {
      "cell_type": "code",
      "source": [
        "def sum_of_list(numbers):\n",
        "\n",
        "    total = sum(numbers)\n",
        "    return total\n",
        "numbers = [77,88,99,55,44]\n",
        "result = sum_of_list(numbers)\n",
        "print(result)"
      ],
      "metadata": {
        "colab": {
          "base_uri": "https://localhost:8080/"
        },
        "id": "V0nzjwvksgXI",
        "outputId": "0b0fde55-25f1-4784-dfa9-62cb472b857f"
      },
      "execution_count": null,
      "outputs": [
        {
          "output_type": "stream",
          "name": "stdout",
          "text": [
            "363\n"
          ]
        }
      ]
    },
    {
      "cell_type": "markdown",
      "source": [
        " 6.Create a function to find the average of a list of numbers and return the\n",
        "average value."
      ],
      "metadata": {
        "id": "8cf2Dsz6t0mL"
      }
    },
    {
      "cell_type": "code",
      "source": [
        "def average(numbers):\n",
        "  total=sum(numbers)\n",
        "  number_of_values=len(numbers)\n",
        "  average=total/number_of_values\n",
        "  return average\n",
        "\n",
        "numbers =[28,26,45,55,77]\n",
        "result=average(numbers)\n",
        "print(result)"
      ],
      "metadata": {
        "id": "Un05wM8DsqUk",
        "colab": {
          "base_uri": "https://localhost:8080/"
        },
        "outputId": "dbcc522a-3b93-4b2e-86c5-4baeadc35562"
      },
      "execution_count": null,
      "outputs": [
        {
          "output_type": "stream",
          "name": "stdout",
          "text": [
            "46.2\n"
          ]
        }
      ]
    },
    {
      "cell_type": "markdown",
      "source": [
        "7.Write a function to find the kth largest element in an unsorted list"
      ],
      "metadata": {
        "id": "bQEtXQ8yuUs9"
      }
    },
    {
      "cell_type": "code",
      "source": [
        "def kth_largest(nums, a):\n",
        "    nums.sort(reverse=True)\n",
        "    return nums[a - 1]\n",
        "\n",
        "\n",
        "\n"
      ],
      "metadata": {
        "id": "hw9TPYdBVVr-"
      },
      "execution_count": null,
      "outputs": []
    },
    {
      "cell_type": "code",
      "source": [
        "nums = [45,56,85,99,41,52,77]\n",
        "a = 1\n",
        "print(kth_largest(nums, a))"
      ],
      "metadata": {
        "colab": {
          "base_uri": "https://localhost:8080/"
        },
        "id": "8_HN6FBIXXNy",
        "outputId": "a08858eb-2255-4aad-bf0f-38852660ea87"
      },
      "execution_count": null,
      "outputs": [
        {
          "output_type": "stream",
          "name": "stdout",
          "text": [
            "99\n"
          ]
        }
      ]
    },
    {
      "cell_type": "markdown",
      "source": [
        "8.Write a recursive function to find the sum of digits of a positive integer."
      ],
      "metadata": {
        "id": "h5EQt-V7T1Lh"
      }
    },
    {
      "cell_type": "code",
      "source": [
        "def sum(n):\n",
        "    if n < 10:\n",
        "        return n\n",
        "    else:\n",
        "        return n % 10 + sum(n // 10)\n",
        "\n",
        "\n",
        "sum(12676)\n",
        "\n"
      ],
      "metadata": {
        "colab": {
          "base_uri": "https://localhost:8080/"
        },
        "id": "n9ZlPYrTT5dd",
        "outputId": "14ba6ea0-42fc-4888-e6cb-2b1717373472"
      },
      "execution_count": null,
      "outputs": [
        {
          "output_type": "execute_result",
          "data": {
            "text/plain": [
              "22"
            ]
          },
          "metadata": {},
          "execution_count": 24
        }
      ]
    },
    {
      "cell_type": "markdown",
      "source": [
        "9.Write a recursive function to calculate the power of a number."
      ],
      "metadata": {
        "id": "joAFBMmtPILL"
      }
    },
    {
      "cell_type": "code",
      "source": [
        "def power(base, exponent):\n",
        "    if exponent == 0:\n",
        "        return 1\n",
        "    else:\n",
        "        return base * power(base, exponent - 1)\n",
        "\n",
        "power(5,3)"
      ],
      "metadata": {
        "colab": {
          "base_uri": "https://localhost:8080/"
        },
        "id": "8MXeKJtZPLW-",
        "outputId": "8f5f198b-10e2-4d94-8e96-8bdc7a76a3cb"
      },
      "execution_count": null,
      "outputs": [
        {
          "output_type": "execute_result",
          "data": {
            "text/plain": [
              "125"
            ]
          },
          "metadata": {},
          "execution_count": 19
        }
      ]
    },
    {
      "cell_type": "markdown",
      "source": [
        "10.Create a function to find the greatest common divisor (GCD) of two\n",
        "numbers using Euclidean algorithm."
      ],
      "metadata": {
        "id": "CQlViLZFNhls"
      }
    },
    {
      "cell_type": "code",
      "source": [
        "def greatest_common_divisor(a, b):\n",
        "    while b != 0:\n",
        "        a, b = b, a % b\n",
        "    return a\n"
      ],
      "metadata": {
        "id": "QeD69BTiNq2s"
      },
      "execution_count": null,
      "outputs": []
    },
    {
      "cell_type": "code",
      "source": [
        "greatest_common_divisor(100,4)"
      ],
      "metadata": {
        "colab": {
          "base_uri": "https://localhost:8080/"
        },
        "id": "kH_Q4vflOMWq",
        "outputId": "8f28c486-430f-47b0-d02f-2da7e3851f9b"
      },
      "execution_count": null,
      "outputs": [
        {
          "output_type": "execute_result",
          "data": {
            "text/plain": [
              "4"
            ]
          },
          "metadata": {},
          "execution_count": 20
        }
      ]
    },
    {
      "cell_type": "markdown",
      "source": [
        "11.Create a 1D array of numbers from 0 to 9."
      ],
      "metadata": {
        "id": "HH5Gg1jmus7V"
      }
    },
    {
      "cell_type": "code",
      "source": [
        "import numpy as np"
      ],
      "metadata": {
        "id": "izFMDM6OuL-d"
      },
      "execution_count": null,
      "outputs": []
    },
    {
      "cell_type": "code",
      "source": [
        "randum_array=np.arange(0,10)\n",
        "randum_array"
      ],
      "metadata": {
        "id": "LIMOdO2YtcLO",
        "colab": {
          "base_uri": "https://localhost:8080/"
        },
        "outputId": "a87245f5-3af7-4b99-ad2e-f421374d615f"
      },
      "execution_count": null,
      "outputs": [
        {
          "output_type": "execute_result",
          "data": {
            "text/plain": [
              "array([0, 1, 2, 3, 4, 5, 6, 7, 8, 9])"
            ]
          },
          "metadata": {},
          "execution_count": 12
        }
      ]
    },
    {
      "cell_type": "markdown",
      "source": [
        "12. Create a 2D array of shape (3, 3) with values ranging from 1 to 9."
      ],
      "metadata": {
        "id": "R-T0jdcVvY3D"
      }
    },
    {
      "cell_type": "code",
      "source": [
        "array_1d=np.arange(1,10)\n",
        "array_2d=array_1d.reshape(3,3)\n",
        "array_2d"
      ],
      "metadata": {
        "colab": {
          "base_uri": "https://localhost:8080/"
        },
        "id": "cOAe1zzBvRdx",
        "outputId": "3dcfe8e0-f583-485a-acdc-62eeb41aa9c6"
      },
      "execution_count": null,
      "outputs": [
        {
          "output_type": "execute_result",
          "data": {
            "text/plain": [
              "array([[1, 2, 3],\n",
              "       [4, 5, 6],\n",
              "       [7, 8, 9]])"
            ]
          },
          "metadata": {},
          "execution_count": 14
        }
      ]
    },
    {
      "cell_type": "markdown",
      "source": [
        "13.Create a 3x3 identity matrix."
      ],
      "metadata": {
        "id": "z6aCf06zwJf-"
      }
    },
    {
      "cell_type": "code",
      "source": [
        "np.eye(3)"
      ],
      "metadata": {
        "colab": {
          "base_uri": "https://localhost:8080/"
        },
        "id": "lVSjCFgowCTU",
        "outputId": "6716ccbf-b49a-49b7-e280-d4293bce8f4e"
      },
      "execution_count": null,
      "outputs": [
        {
          "output_type": "execute_result",
          "data": {
            "text/plain": [
              "array([[1., 0., 0.],\n",
              "       [0., 1., 0.],\n",
              "       [0., 0., 1.]])"
            ]
          },
          "metadata": {},
          "execution_count": 15
        }
      ]
    },
    {
      "cell_type": "markdown",
      "source": [
        "14. Create an array of 10 random numbers and find the mean and standard\n",
        "deviation."
      ],
      "metadata": {
        "id": "6eVZ39bGwZrW"
      }
    },
    {
      "cell_type": "code",
      "source": [
        "randum_numbers = np.random.rand(10)\n",
        "mean=np.mean(randum_numbers)\n",
        "standard_deviation=np.std(randum_numbers)\n"
      ],
      "metadata": {
        "id": "NuAHpuWowSWi"
      },
      "execution_count": null,
      "outputs": []
    },
    {
      "cell_type": "code",
      "source": [
        "randum_numbers"
      ],
      "metadata": {
        "colab": {
          "base_uri": "https://localhost:8080/"
        },
        "id": "xlDhUcnpw8-x",
        "outputId": "cb7a296a-e201-4fed-99b8-136d96496e68"
      },
      "execution_count": null,
      "outputs": [
        {
          "output_type": "execute_result",
          "data": {
            "text/plain": [
              "array([0.19378239, 0.66568367, 0.96851988, 0.60256517, 0.95651444,\n",
              "       0.82135311, 0.60224323, 0.12071234, 0.64370644, 0.90590312])"
            ]
          },
          "metadata": {},
          "execution_count": 21
        }
      ]
    },
    {
      "cell_type": "code",
      "source": [
        "mean"
      ],
      "metadata": {
        "colab": {
          "base_uri": "https://localhost:8080/"
        },
        "id": "NFPgU9EFxJBc",
        "outputId": "c907e788-f35f-45cf-a9da-4693ec2cc7aa"
      },
      "execution_count": null,
      "outputs": [
        {
          "output_type": "execute_result",
          "data": {
            "text/plain": [
              "0.6480983788743698"
            ]
          },
          "metadata": {},
          "execution_count": 22
        }
      ]
    },
    {
      "cell_type": "code",
      "source": [
        "standard_deviation"
      ],
      "metadata": {
        "colab": {
          "base_uri": "https://localhost:8080/"
        },
        "id": "t9SAPF8VxTIh",
        "outputId": "57f410a8-cf3d-4a79-808c-3409b6ca0e4e"
      },
      "execution_count": null,
      "outputs": [
        {
          "output_type": "execute_result",
          "data": {
            "text/plain": [
              "0.2798775531777221"
            ]
          },
          "metadata": {},
          "execution_count": 23
        }
      ]
    },
    {
      "cell_type": "markdown",
      "source": [
        "15.Create a 1D array of numbers from 10 to 20 and extract the first 5 elements."
      ],
      "metadata": {
        "id": "5rLXB7cXxZIU"
      }
    },
    {
      "cell_type": "code",
      "source": [
        "array=np.arange(10,21)\n",
        "first_5_elements=array[:5]\n",
        "array"
      ],
      "metadata": {
        "colab": {
          "base_uri": "https://localhost:8080/"
        },
        "id": "ZoqZeRGgxVIK",
        "outputId": "3f385132-4c89-40ca-c571-dbe1234a4d3e"
      },
      "execution_count": null,
      "outputs": [
        {
          "output_type": "execute_result",
          "data": {
            "text/plain": [
              "array([10, 11, 12, 13, 14, 15, 16, 17, 18, 19, 20])"
            ]
          },
          "metadata": {},
          "execution_count": 27
        }
      ]
    },
    {
      "cell_type": "code",
      "source": [
        "first_5_elements"
      ],
      "metadata": {
        "colab": {
          "base_uri": "https://localhost:8080/"
        },
        "id": "b_ox-tXhxdBa",
        "outputId": "d4df0108-7c19-4c2d-dae1-290bf948f777"
      },
      "execution_count": null,
      "outputs": [
        {
          "output_type": "execute_result",
          "data": {
            "text/plain": [
              "array([10, 11, 12, 13, 14])"
            ]
          },
          "metadata": {},
          "execution_count": 28
        }
      ]
    },
    {
      "cell_type": "markdown",
      "source": [
        "16. Create a 2D array of shape (4, 4) and extract the second row."
      ],
      "metadata": {
        "id": "A67HHI2fyWpl"
      }
    },
    {
      "cell_type": "code",
      "source": [
        "array=np.arange(1,17).reshape((4,4))\n",
        "second_row=array[1]\n",
        "array"
      ],
      "metadata": {
        "colab": {
          "base_uri": "https://localhost:8080/"
        },
        "id": "nnsiNNRVx9l7",
        "outputId": "b365084a-a396-4471-b6c2-0f850e16cf94"
      },
      "execution_count": null,
      "outputs": [
        {
          "output_type": "execute_result",
          "data": {
            "text/plain": [
              "array([[ 1,  2,  3,  4],\n",
              "       [ 5,  6,  7,  8],\n",
              "       [ 9, 10, 11, 12],\n",
              "       [13, 14, 15, 16]])"
            ]
          },
          "metadata": {},
          "execution_count": 31
        }
      ]
    },
    {
      "cell_type": "code",
      "source": [
        "second_row"
      ],
      "metadata": {
        "colab": {
          "base_uri": "https://localhost:8080/"
        },
        "id": "rR5chpjeypHq",
        "outputId": "deae624d-8de5-4119-d2a3-54f4a0ac886f"
      },
      "execution_count": null,
      "outputs": [
        {
          "output_type": "execute_result",
          "data": {
            "text/plain": [
              "array([5, 6, 7, 8])"
            ]
          },
          "metadata": {},
          "execution_count": 32
        }
      ]
    },
    {
      "cell_type": "markdown",
      "source": [
        "17. Create two 1D arrays of length 5 with values ranging from 1 to 5 and 6 to 10, Perform element-wise addition."
      ],
      "metadata": {
        "id": "1lce2XQey6ex"
      }
    },
    {
      "cell_type": "code",
      "source": [
        "array_1=np.arange(1,6)\n",
        "array_2=np.arange(6,11)\n",
        "result=array_1+array_2"
      ],
      "metadata": {
        "id": "i6li99n5y1Yi"
      },
      "execution_count": null,
      "outputs": []
    },
    {
      "cell_type": "code",
      "source": [
        "array_1"
      ],
      "metadata": {
        "colab": {
          "base_uri": "https://localhost:8080/"
        },
        "id": "HJWdS_QAzT-E",
        "outputId": "29996bc8-5cdc-436a-fa6f-cb4c74230e34"
      },
      "execution_count": null,
      "outputs": [
        {
          "output_type": "execute_result",
          "data": {
            "text/plain": [
              "array([1, 2, 3, 4, 5])"
            ]
          },
          "metadata": {},
          "execution_count": 34
        }
      ]
    },
    {
      "cell_type": "code",
      "source": [
        "array_2"
      ],
      "metadata": {
        "colab": {
          "base_uri": "https://localhost:8080/"
        },
        "id": "89MVU_cgzVbs",
        "outputId": "18dfec3f-75c1-4c71-ace7-919e545071b4"
      },
      "execution_count": null,
      "outputs": [
        {
          "output_type": "execute_result",
          "data": {
            "text/plain": [
              "array([ 6,  7,  8,  9, 10])"
            ]
          },
          "metadata": {},
          "execution_count": 35
        }
      ]
    },
    {
      "cell_type": "code",
      "source": [
        "result"
      ],
      "metadata": {
        "colab": {
          "base_uri": "https://localhost:8080/"
        },
        "id": "y_snbGc4zWtQ",
        "outputId": "2e9cf7b3-0df9-4e1e-89a8-210f88a9b08e"
      },
      "execution_count": null,
      "outputs": [
        {
          "output_type": "execute_result",
          "data": {
            "text/plain": [
              "array([ 7,  9, 11, 13, 15])"
            ]
          },
          "metadata": {},
          "execution_count": 36
        }
      ]
    },
    {
      "cell_type": "markdown",
      "source": [
        "18.. Create a 1D array of 10 random numbers and replace all elements less than\n",
        "0.5 with 0"
      ],
      "metadata": {
        "id": "4YefuhSfzZqM"
      }
    },
    {
      "cell_type": "code",
      "source": [
        "randum_numbers=np.random.rand(10)\n",
        "\n",
        "randum_numbers"
      ],
      "metadata": {
        "colab": {
          "base_uri": "https://localhost:8080/"
        },
        "id": "mDZfhiffzXrQ",
        "outputId": "6a124d14-4d31-4c48-8383-c327a23f486d"
      },
      "execution_count": null,
      "outputs": [
        {
          "output_type": "execute_result",
          "data": {
            "text/plain": [
              "array([0.30212845, 0.16697729, 0.89189568, 0.04981397, 0.71789964,\n",
              "       0.19283291, 0.67797368, 0.73426908, 0.18421997, 0.46913422])"
            ]
          },
          "metadata": {},
          "execution_count": 39
        }
      ]
    },
    {
      "cell_type": "code",
      "source": [
        "randum_numbers[randum_numbers<0.5]=0\n",
        "randum_numbers"
      ],
      "metadata": {
        "colab": {
          "base_uri": "https://localhost:8080/"
        },
        "id": "4WsswxX-z6er",
        "outputId": "8e17dbbb-8c3b-440c-af8e-2249bf311949"
      },
      "execution_count": null,
      "outputs": [
        {
          "output_type": "execute_result",
          "data": {
            "text/plain": [
              "array([0.        , 0.        , 0.89189568, 0.        , 0.71789964,\n",
              "       0.        , 0.67797368, 0.73426908, 0.        , 0.        ])"
            ]
          },
          "metadata": {},
          "execution_count": 40
        }
      ]
    },
    {
      "cell_type": "code",
      "source": [],
      "metadata": {
        "id": "hIaQhARe0GLq"
      },
      "execution_count": null,
      "outputs": []
    }
  ]
}