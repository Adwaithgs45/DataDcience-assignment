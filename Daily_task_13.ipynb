{
  "nbformat": 4,
  "nbformat_minor": 0,
  "metadata": {
    "colab": {
      "provenance": [],
      "authorship_tag": "ABX9TyPd0HWFJW8687Dt9AHl23mf",
      "include_colab_link": true
    },
    "kernelspec": {
      "name": "python3",
      "display_name": "Python 3"
    },
    "language_info": {
      "name": "python"
    }
  },
  "cells": [
    {
      "cell_type": "markdown",
      "metadata": {
        "id": "view-in-github",
        "colab_type": "text"
      },
      "source": [
        "<a href=\"https://colab.research.google.com/github/Adwaithgs45/ICT-Assignments/blob/main/Daily_task_13.ipynb\" target=\"_parent\"><img src=\"https://colab.research.google.com/assets/colab-badge.svg\" alt=\"Open In Colab\"/></a>"
      ]
    },
    {
      "cell_type": "markdown",
      "source": [
        "# ***Daily Task 13***"
      ],
      "metadata": {
        "id": "HtaMQhw9yzp6"
      }
    },
    {
      "cell_type": "markdown",
      "source": [
        "1.Take input of age of 3 people by user and determine oldest and\n",
        "youngest among them.\n"
      ],
      "metadata": {
        "id": "0YNNEfuLy9Ir"
      }
    },
    {
      "cell_type": "code",
      "execution_count": null,
      "metadata": {
        "colab": {
          "base_uri": "https://localhost:8080/"
        },
        "id": "0PsLrSn6yuZ5",
        "outputId": "3e108537-e4c4-407e-906c-4fab7b51b792"
      },
      "outputs": [
        {
          "output_type": "stream",
          "name": "stdout",
          "text": [
            "Enter the age of first person: 45\n",
            "Enter the age of second person: 47\n",
            "Enter the age of third person: 49\n",
            "The oldest person: 49\n",
            "The Youngest person: 45\n"
          ]
        }
      ],
      "source": [
        "a=int(input(\"Enter the age of first person: \"))\n",
        "b=int(input(\"Enter the age of second person: \"))\n",
        "c=int(input(\"Enter the age of third person: \"))\n",
        "\n",
        "oldest_person = max(a,b,c)\n",
        "youngest_person = min(a,b,c)\n",
        "\n",
        "print(\"The oldest person:\",oldest_person)\n",
        "print(\"The Youngest person:\", youngest_person)"
      ]
    },
    {
      "cell_type": "markdown",
      "source": [
        "2.Write a program that asks the user for their exam score and\n",
        "calculates their grade based on the following conditions:\n",
        "a. A score of 90 or above is an A.\n",
        "b. A score between 80 and 89 is a B.\n",
        "c. A score between 70 and 79 is a C.\n",
        "d. A score below 70 is an F."
      ],
      "metadata": {
        "id": "n0a_KYz_0h1k"
      }
    },
    {
      "cell_type": "code",
      "source": [
        "a = int(input(\"Enter your exam score:\"))\n",
        "\n",
        "if a>= 90:\n",
        "  grade = 'A'\n",
        "elif a>= 80:\n",
        "  grade = 'B'\n",
        "elif a>= 70:\n",
        "  grade = 'C'\n",
        "else:\n",
        "  grade = 'F'\n",
        "\n",
        "print(\"Your Grade is : \",grade)"
      ],
      "metadata": {
        "colab": {
          "base_uri": "https://localhost:8080/"
        },
        "id": "vX3V0nff0NfS",
        "outputId": "c6556da6-c199-4541-a7de-f8a95b642928"
      },
      "execution_count": null,
      "outputs": [
        {
          "output_type": "stream",
          "name": "stdout",
          "text": [
            "Enter your exam score:77\n",
            "Your Grade is :  C\n"
          ]
        }
      ]
    },
    {
      "cell_type": "markdown",
      "source": [
        "3.Create a program that asks the user for a list of grocery items they\n",
        "need to buy and organizes the list alphabetically."
      ],
      "metadata": {
        "id": "KNd4bq_I1neJ"
      }
    },
    {
      "cell_type": "code",
      "source": [
        "num_items = int(input(\"How many grocery items do you need to buy? \"))\n",
        "grocery_list = []\n",
        "for _ in range(num_items):\n",
        "    item = input(\"Enter a grocery item: \")\n",
        "    grocery_list.append(item)\n",
        "grocery_list.sort()\n",
        "print(\"\\nYour grocery list in alphabetical order:\")\n",
        "for item in grocery_list:\n",
        "    print(item)\n",
        "\n",
        "\n",
        "\n"
      ],
      "metadata": {
        "colab": {
          "base_uri": "https://localhost:8080/"
        },
        "id": "tLQ7Boku1MpU",
        "outputId": "c0c1627e-abba-4e41-cdf1-0e0eedffa1b8"
      },
      "execution_count": 9,
      "outputs": [
        {
          "output_type": "stream",
          "name": "stdout",
          "text": [
            "How many grocery items do you need to buy? 3\n",
            "Enter a grocery item: Paper\n",
            "Enter a grocery item: Scissor\n",
            "Enter a grocery item: Calculator\n",
            "\n",
            "Your grocery list in alphabetical order:\n",
            "Calculator\n",
            "Paper\n",
            "Scissor\n"
          ]
        }
      ]
    },
    {
      "cell_type": "markdown",
      "source": [
        "4.Write a program that asks the user for an email address and\n",
        "checks if it is valid (contains an \"@\" symbol and a valid domain)."
      ],
      "metadata": {
        "id": "bZgZBkSq2onx"
      }
    },
    {
      "cell_type": "code",
      "source": [
        "import re\n",
        "\n",
        "def is_valid_email(email):\n",
        "    pattern = r'^[a-zA-Z0-9_.+-]+@[a-zA-Z0-9-]+\\.[a-zA-Z0-9-.]+$'\n",
        "    return re.match(pattern, email) is not None\n",
        "\n",
        "email = input(\"Please enter your email address: \")\n",
        "if is_valid_email(email):\n",
        "    print(\"Valid email address.\")\n",
        "else:\n",
        "    print(\"Invalid email address.\")\n"
      ],
      "metadata": {
        "id": "uHbWzJYt2SRo",
        "colab": {
          "base_uri": "https://localhost:8080/"
        },
        "outputId": "5e1aab9f-5012-4787-a5b5-0edfa2ff6ff8"
      },
      "execution_count": 10,
      "outputs": [
        {
          "output_type": "stream",
          "name": "stdout",
          "text": [
            "Please enter your email address: xyz@gmail.com\n",
            "Valid email address.\n"
          ]
        }
      ]
    },
    {
      "cell_type": "markdown",
      "source": [
        "5.Create a program that asks the user for the number of days they\n",
        "have delayed returning a library book. If the delay is less than or\n",
        "equal to 7 days, there is no fine. If the delay is between 8 and 30\n",
        "days, apply a fine of 2 rupees per day. If the delay is more than\n",
        "30 days, apply a fine of 5 rupees per day. Print the total fine\n",
        "amount"
      ],
      "metadata": {
        "id": "q5H6G1TTv5NE"
      }
    },
    {
      "cell_type": "code",
      "source": [
        "def calculate_fine(days_delayed):\n",
        "    if days_delayed <= 7:\n",
        "        return 0\n",
        "    elif 8 <= days_delayed <= 30:\n",
        "        return (days_delayed - 7) * 2\n",
        "    else:\n",
        "        return (30 - 7) * 2 + (days_delayed - 30) * 5\n",
        "\n",
        "days_delayed = int(input(\"Enter the number of days you have delayed returning the library book: \"))\n",
        "fine = calculate_fine(days_delayed)\n",
        "print(f\"The total fine amount is: {fine} rupees\")\n",
        "\n"
      ],
      "metadata": {
        "colab": {
          "base_uri": "https://localhost:8080/"
        },
        "id": "8S7h6UDjvxnM",
        "outputId": "99f29fda-a852-42c5-d4bc-be217618208f"
      },
      "execution_count": 11,
      "outputs": [
        {
          "output_type": "stream",
          "name": "stdout",
          "text": [
            "Enter the number of days you have delayed returning the library book: 26\n",
            "The total fine amount is: 38 rupees\n"
          ]
        }
      ]
    },
    {
      "cell_type": "markdown",
      "source": [
        "6.Write a program that checks if a given character is a vowel. Use\n",
        "the in operator to check if the character is present in a string of\n",
        "vowels (\"aeiou\")."
      ],
      "metadata": {
        "id": "pYnteWthxeEg"
      }
    },
    {
      "cell_type": "code",
      "source": [
        "vowels = \"aeiou\"\n",
        "\n",
        "char = input(\"Enter a character: \")\n",
        "\n",
        "if len(char) != 1:\n",
        "    print(\"Please enter a single character.\")\n",
        "elif char.lower() in vowels:\n",
        "    print(f\"{char} is a vowel.\")\n",
        "else:\n",
        "    print(f\"{char} is not a vowel.\")\n"
      ],
      "metadata": {
        "colab": {
          "base_uri": "https://localhost:8080/"
        },
        "id": "533CrErpwH32",
        "outputId": "576d7329-b916-4afe-c6e6-8c83c6fc7872"
      },
      "execution_count": 12,
      "outputs": [
        {
          "output_type": "stream",
          "name": "stdout",
          "text": [
            "Enter a character: g\n",
            "g is not a vowel.\n"
          ]
        }
      ]
    },
    {
      "cell_type": "markdown",
      "source": [
        "7.Implement a program that calculates the factorial of a number\n",
        "using a loop."
      ],
      "metadata": {
        "id": "CBtDV0PzxmjE"
      }
    },
    {
      "cell_type": "code",
      "source": [
        "number = int(input(\"Enter a number: \"))\n",
        "factorial = 1\n",
        "for i in range(1, number + 1):\n",
        "    factorial *= i\n",
        "print(f\"The factorial of {number} is {factorial}\")\n"
      ],
      "metadata": {
        "colab": {
          "base_uri": "https://localhost:8080/"
        },
        "id": "gWanuxE9xxS6",
        "outputId": "9fecc57d-dd97-411f-dfa1-7c8fa4974a1a"
      },
      "execution_count": 13,
      "outputs": [
        {
          "output_type": "stream",
          "name": "stdout",
          "text": [
            "Enter a number: 5\n",
            "The factorial of 5 is 120\n"
          ]
        }
      ]
    },
    {
      "cell_type": "markdown",
      "source": [
        "8.Generate the Fibonacci sequence (0, 1, 1, 2, 3, ...) up to a certain\n",
        "limit using a loop."
      ],
      "metadata": {
        "id": "p8i-u5BUyZBN"
      }
    },
    {
      "cell_type": "code",
      "source": [
        "limit = int(input(\"Enter the limit for the Fibonacci sequence: \"))\n",
        "a, b = 0, 1\n",
        "print(a, end=\" \")\n",
        "while b <= limit:\n",
        "    print(b, end=\" \")\n",
        "    a, b = b, a + b\n"
      ],
      "metadata": {
        "colab": {
          "base_uri": "https://localhost:8080/"
        },
        "id": "Jhri5y3iyVsE",
        "outputId": "342650e2-62bc-4947-d716-3cbce47823bf"
      },
      "execution_count": 14,
      "outputs": [
        {
          "output_type": "stream",
          "name": "stdout",
          "text": [
            "Enter the limit for the Fibonacci sequence: 5\n",
            "0 1 1 2 3 5 "
          ]
        }
      ]
    },
    {
      "cell_type": "markdown",
      "source": [
        "9.Create a number guessing game where the computer generates a\n",
        "random number and the user has to guess it within a certain\n",
        "number of attempts using a loop."
      ],
      "metadata": {
        "id": "X2n0ZCsVy2bM"
      }
    },
    {
      "cell_type": "code",
      "source": [
        "lower_bound = 1\n",
        "upper_bound = 15\n",
        "max_attempts = 3\n",
        "secret_number = 11\n",
        "\n",
        "print(f\"Guess the number between {lower_bound} and {upper_bound}. You have {max_attempts} attempts.\")\n",
        "\n",
        "for attempt in range(1, max_attempts + 1):\n",
        "    guess = int(input(f\"Attempt {attempt}: Enter your guess: \"))\n",
        "\n",
        "    if guess < secret_number:\n",
        "        print(\"Too low!\")\n",
        "    elif guess > secret_number:\n",
        "        print(\"Too high!\")\n",
        "    else:\n",
        "        print(f\"Congratulations! You guessed the number {secret_number} in {attempt} attempts.\")\n",
        "        break\n",
        "else:\n",
        "    print(f\"Sorry, you've used all {max_attempts} attempts. The number was {secret_number}.\")\n",
        "\n"
      ],
      "metadata": {
        "colab": {
          "base_uri": "https://localhost:8080/"
        },
        "id": "xXn-S5DPyqk8",
        "outputId": "031c59fd-8585-47e8-f619-59ff9eb5293c"
      },
      "execution_count": 15,
      "outputs": [
        {
          "output_type": "stream",
          "name": "stdout",
          "text": [
            "Guess the number between 1 and 15. You have 3 attempts.\n",
            "Attempt 1: Enter your guess: 6\n",
            "Too low!\n",
            "Attempt 2: Enter your guess: 4\n",
            "Too low!\n",
            "Attempt 3: Enter your guess: 11\n",
            "Congratulations! You guessed the number 11 in 3 attempts.\n"
          ]
        }
      ]
    },
    {
      "cell_type": "markdown",
      "source": [
        "10.Write a menu driven calculator with following menu:"
      ],
      "metadata": {
        "id": "VRXVYIh_z7yp"
      }
    },
    {
      "cell_type": "code",
      "source": [
        "def add(x, y):\n",
        "    return x + y\n",
        "\n",
        "def subtract(x, y):\n",
        "    return x - y\n",
        "\n",
        "def multiply(x, y):\n",
        "    return x * y\n",
        "\n",
        "def divide(x, y):\n",
        "    if y == 0:\n",
        "        return \"Error! Division by zero.\"\n",
        "    return x / y\n",
        "\n",
        "while True:\n",
        "    print(\"\\nMenu:\")\n",
        "    print(\"1. Add\")\n",
        "    print(\"2. Subtract\")\n",
        "    print(\"3. Multiply\")\n",
        "    print(\"4. Divide\")\n",
        "    print(\"5. End\")\n",
        "\n",
        "    choice = input(\"Enter your choice (1/2/3/4/5): \")\n",
        "\n",
        "    if choice in ['1', '2', '3', '4']:\n",
        "        num1 = float(input(\"Enter first number: \"))\n",
        "        num2 = float(input(\"Enter second number: \"))\n",
        "\n",
        "        if choice == '1':\n",
        "            print(f\"The result is: {add(num1, num2)}\")\n",
        "        elif choice == '2':\n",
        "            print(f\"The result is: {subtract(num1, num2)}\")\n",
        "        elif choice == '3':\n",
        "            print(f\"The result is: {multiply(num1, num2)}\")\n",
        "        elif choice == '4':\n",
        "            print(f\"The result is: {divide(num1, num2)}\")\n",
        "    elif choice == '5':\n",
        "        print(\"End!\")\n",
        "        break\n",
        "    else:\n",
        "        print(\"Invalid input. Please enter a number between 1 and 5.\")\n"
      ],
      "metadata": {
        "colab": {
          "base_uri": "https://localhost:8080/"
        },
        "id": "CKcFvpx6z2UN",
        "outputId": "5dfada8f-821b-4979-8b03-97a1beac891a"
      },
      "execution_count": 17,
      "outputs": [
        {
          "output_type": "stream",
          "name": "stdout",
          "text": [
            "\n",
            "Menu:\n",
            "1. Add\n",
            "2. Subtract\n",
            "3. Multiply\n",
            "4. Divide\n",
            "5. End\n",
            "Enter your choice (1/2/3/4/5): 2\n",
            "Enter first number: 6\n",
            "Enter second number: 4\n",
            "The result is: 2.0\n",
            "\n",
            "Menu:\n",
            "1. Add\n",
            "2. Subtract\n",
            "3. Multiply\n",
            "4. Divide\n",
            "5. End\n",
            "Enter your choice (1/2/3/4/5): 1\n",
            "Enter first number: 6\n",
            "Enter second number: 5\n",
            "The result is: 11.0\n",
            "\n",
            "Menu:\n",
            "1. Add\n",
            "2. Subtract\n",
            "3. Multiply\n",
            "4. Divide\n",
            "5. End\n",
            "Enter your choice (1/2/3/4/5): 3\n",
            "Enter first number: 6\n",
            "Enter second number: 5\n",
            "The result is: 30.0\n",
            "\n",
            "Menu:\n",
            "1. Add\n",
            "2. Subtract\n",
            "3. Multiply\n",
            "4. Divide\n",
            "5. End\n",
            "Enter your choice (1/2/3/4/5): 4\n",
            "Enter first number: 6\n",
            "Enter second number: 5\n",
            "The result is: 1.2\n",
            "\n",
            "Menu:\n",
            "1. Add\n",
            "2. Subtract\n",
            "3. Multiply\n",
            "4. Divide\n",
            "5. End\n",
            "Enter your choice (1/2/3/4/5): 5\n",
            "End!\n"
          ]
        }
      ]
    },
    {
      "cell_type": "code",
      "source": [],
      "metadata": {
        "id": "Zv3kQrv40ZRJ"
      },
      "execution_count": null,
      "outputs": []
    }
  ]
}